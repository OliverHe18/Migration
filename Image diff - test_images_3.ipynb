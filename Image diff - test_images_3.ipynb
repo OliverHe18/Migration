{
 "cells": [
  {
   "cell_type": "code",
   "execution_count": 1,
   "metadata": {},
   "outputs": [],
   "source": [
    "# import packages\n",
    "import pylab\n",
    "import numpy as np\n",
    "from glob import glob\n",
    "from PIL import Image\n",
    "import matplotlib.pyplot as plt\n",
    "import matplotlib.image as mpimg\n",
    "import cv2\n",
    "import torch\n",
    "import seaborn as sns\n",
    "\n",
    "%matplotlib inline"
   ]
  },
  {
   "cell_type": "code",
   "execution_count": 2,
   "metadata": {},
   "outputs": [],
   "source": [
    "def abs_diff_image2(img1, img2, area):    \n",
    "    \"\"\"\n",
    "    \n",
    "    \"\"\"\n",
    "    file_name = img2 + '_absDiff.png'\n",
    "    \n",
    "    img1 = Image.open(img1)\n",
    "    img2 = Image.open(img2)\n",
    "    img1_cropped = img1.crop(area)\n",
    "    img2_cropped = img2.crop(area)\n",
    "    img1_3d = np.array(img1_cropped)\n",
    "    img2_3d = np.array(img2_cropped)\n",
    "    \n",
    "    # Calculate the absolute difference on each channel separately\n",
    "    error_r = np.fabs(np.subtract(img2_3d[:,:,0], img1_3d[:,:,0]))\n",
    "    error_g = np.fabs(np.subtract(img2_3d[:,:,1], img1_3d[:,:,1]))\n",
    "    error_b = np.fabs(np.subtract(img2_3d[:,:,2], img1_3d[:,:,2]))\n",
    "\n",
    "    # Calculate the maximum error for each pixel\n",
    "    diff = np.maximum(np.maximum(error_r, error_g), error_b)\n",
    "\n",
    "    hm = sns.heatmap(diff)\n",
    "    plt.savefig(file_name)\n",
    "    plt.clf()"
   ]
  },
  {
   "cell_type": "code",
   "execution_count": 9,
   "metadata": {},
   "outputs": [],
   "source": [
    "def avg_diff_image2(img1, img2, area):    \n",
    "    \"\"\"\n",
    "    \n",
    "    \"\"\"\n",
    "    file_name = img2 + '_avgDiff.png'\n",
    "    \n",
    "    img1 = Image.open(img1)\n",
    "    img2 = Image.open(img2)\n",
    "    img1_cropped = img1.crop(area)\n",
    "    img2_cropped = img2.crop(area)\n",
    "    img1_3d = np.array(img1_cropped)\n",
    "    img2_3d = np.array(img2_cropped)\n",
    "    \n",
    "    img1_2d = np.mean(img1_3d, axis=2)\n",
    "    img2_2d = np.mean(img2_3d, axis=2)\n",
    "    \n",
    "    diff = np.fabs(img2_2d - img1_2d)\n",
    "    hm = sns.heatmap(diff)\n",
    "    plt.savefig(file_name)\n",
    "    plt.clf()\n",
    "    "
   ]
  },
  {
   "cell_type": "code",
   "execution_count": 2,
   "metadata": {},
   "outputs": [],
   "source": [
    "def avg_diff_image2_v2(img1, img2, area):    \n",
    "    \"\"\"\n",
    "    \n",
    "    \"\"\"\n",
    "    file_name = img2 + '_avgDiffv2.png'\n",
    "    \n",
    "    img1 = Image.open(img1)\n",
    "    img2 = Image.open(img2)\n",
    "    img1_cropped = img1.crop(area)\n",
    "    img2_cropped = img2.crop(area)\n",
    "    img1_3d = np.array(img1_cropped)\n",
    "    img2_3d = np.array(img2_cropped)\n",
    "    \n",
    "    img1_2d = np.mean(img1_3d, axis=2)\n",
    "    img2_2d = np.mean(img2_3d, axis=2)\n",
    "    \n",
    "    # use raw value instead of abs \n",
    "    # diff = np.fabs(img2_2d - img1_2d)\n",
    "    diff = img2_2d - img1_2d\n",
    "    hm = sns.heatmap(diff)\n",
    "    plt.savefig(file_name)\n",
    "    plt.clf()\n",
    "    "
   ]
  },
  {
   "cell_type": "code",
   "execution_count": 3,
   "metadata": {},
   "outputs": [],
   "source": [
    "def run(img_path, area):\n",
    "    \"\"\"\n",
    "    Params:\n",
    "    img_path: PIL image folder \n",
    "    area: (left, upper, right, lower)\n",
    "    \n",
    "    diff_type: abs or avg\n",
    "        \n",
    "    \"\"\"\n",
    "    imgs = np.array(glob(img_path + '/*')) # np.ndarray\n",
    "    print('Total number of images: ', len(imgs))\n",
    "         \n",
    "    img0 = img_path + '/2s.jpg'\n",
    "    \n",
    "    for img in imgs[:]:\n",
    "#         abs_diff_image2(img0, img, area)\n",
    "#         avg_diff_image2(img0, img, area)\n",
    "        avg_diff_image2_v2(img0, img, area)\n"
   ]
  },
  {
   "cell_type": "code",
   "execution_count": 10,
   "metadata": {},
   "outputs": [
    {
     "name": "stdout",
     "output_type": "stream",
     "text": [
      "Total number of images:  25\n"
     ]
    },
    {
     "data": {
      "text/plain": [
       "<Figure size 432x288 with 0 Axes>"
      ]
     },
     "metadata": {},
     "output_type": "display_data"
    }
   ],
   "source": [
    "# avg diff\n",
    "area = (852, 200, 1082, 450)\n",
    "img_path = 'test_images_3'\n",
    "run(img_path, area)"
   ]
  },
  {
   "cell_type": "code",
   "execution_count": 4,
   "metadata": {},
   "outputs": [
    {
     "name": "stdout",
     "output_type": "stream",
     "text": [
      "Total number of images:  25\n"
     ]
    },
    {
     "data": {
      "text/plain": [
       "<Figure size 432x288 with 0 Axes>"
      ]
     },
     "metadata": {},
     "output_type": "display_data"
    }
   ],
   "source": [
    "# abs diff\n",
    "area = (852, 200, 1082, 450)\n",
    "img_path = 'test_images_5'\n",
    "run(img_path, area)"
   ]
  },
  {
   "cell_type": "code",
   "execution_count": 4,
   "metadata": {},
   "outputs": [
    {
     "name": "stdout",
     "output_type": "stream",
     "text": [
      "Total number of images:  25\n"
     ]
    },
    {
     "data": {
      "text/plain": [
       "<Figure size 432x288 with 0 Axes>"
      ]
     },
     "metadata": {},
     "output_type": "display_data"
    }
   ],
   "source": [
    "# avg diff v2\n",
    "area = (852, 200, 1082, 450)\n",
    "img_path = 'test_images_6'\n",
    "run(img_path, area)"
   ]
  },
  {
   "cell_type": "code",
   "execution_count": null,
   "metadata": {},
   "outputs": [],
   "source": []
  }
 ],
 "metadata": {
  "kernelspec": {
   "display_name": "Python 3",
   "language": "python",
   "name": "python3"
  },
  "language_info": {
   "codemirror_mode": {
    "name": "ipython",
    "version": 3
   },
   "file_extension": ".py",
   "mimetype": "text/x-python",
   "name": "python",
   "nbconvert_exporter": "python",
   "pygments_lexer": "ipython3",
   "version": "3.7.0"
  }
 },
 "nbformat": 4,
 "nbformat_minor": 2
}
